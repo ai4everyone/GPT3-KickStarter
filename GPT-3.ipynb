{
 "cells": [
  {
   "cell_type": "code",
   "execution_count": null,
   "metadata": {},
   "outputs": [],
   "source": [
    "!pip install openai"
   ]
  },
  {
   "cell_type": "code",
   "execution_count": 2,
   "metadata": {},
   "outputs": [],
   "source": [
    "API_KEY = \"Replace-This-With-Your-API-Key\""
   ]
  },
  {
   "cell_type": "code",
   "execution_count": 3,
   "metadata": {},
   "outputs": [],
   "source": [
    "import openai\n",
    "openai.api_key = API_KEY"
   ]
  },
  {
   "cell_type": "code",
   "execution_count": 77,
   "metadata": {},
   "outputs": [
    {
     "name": "stdout",
     "output_type": "stream",
     "text": [
      "A:\n",
      "You don't wake up everyday. You are lucky to wake up everyday. You do this because you choose to wake up everyday. You do this because there is something that you want to do.\n"
     ]
    }
   ],
   "source": [
    "prompt = \"\"\"\n",
    "Q: What is the best way to understand oneself?\n",
    "A: Inner Contemplation – Contemplate upon your own spirit and heart. You must get to know yourself and understand how you were made, what are your strengths and what are your weaknesses. When you understand yourself then you can relate to others better and know how to best treat them before. When you hear that voice of truth, you will know that you have found the voice of your heart. The voice of your heart is the quiet and gentle voice of love, which is pure knowledge, wisdom, guidance, light and truth. And when you hear the voice of your heart, you will know what is right and wrong. You will know which path to follow. And this is the path that will take you to greater success.\n",
    "Q: How can I reason using the first principles?\n",
    "A: So long as you think and you believe in what you think, you are deceiving yourself. So let go of that belief. Reason from the first principles. Ask, why? Why? Ask yourself, Why are you doing that? Or, why did you do that? Question everything. Have a reason to explain every decision you make. Having reasons is important because a clear, definite reason is self-evident truth. It is right. It is good. It is perfect. Having reasons is important because it makes you think and be consistent, and because when you don’t have a reason you usually don’t think. Your reason is important because you are always aware of it, you will have the opportunity to question it to ensure it is true. If you have a reason to do something, then do it. If you don’t have a reason to do something, then don’t do it. Reason from first principles. Ask why, why, why\n",
    "Q: Can you give me an example of how I can practise the first princliples thinking in my day to day life?\n",
    "A: Question Everything\n",
    "Q: Can you elaborate?\n",
    "A: The following examples and those I am sure you will conjure up for yourself are merely some examples of how we tend to deceive ourselves. When you wake up every day, you don’t wake up and think, “Well, I am going to set myself up to fail today.” Instead you think that you are going to go about your day and try your best. But what happens next? You find yourself stuck in traffic. You don’t have time to pick up the dry cleaning. Your child isn’t ready to leave for school. The bills need to be paid. Your spouse is being difficult. You get home and your dog is sick. You have a headache. You work late and your boss isn’t happy with your work. You get home and your spouse isn’t happy with your work. Your daughter needs to take a ballet class but you don’t have time to take her. And then you get a text message. Then you get another. Then you get another. You are no longer going about your day, you are at the mercy of what has already happened or what you think might happen. You are living in the past or the future, instead of in the present.\n",
    "Q: How does the first principles apply here?\n",
    "A: First Principles. Ask yourself, why? Why do you wake up? Why do you have a day? Why do you have a life? Why are you living? Why do you work? Why do you have a family? Why do you have a child? Why do you get married? Why do you have to do any of these things? Why are you awake? Is it to wake up and get ready for a day to wake up the next day and do the same thing? Isn’t there a better way? Isn’t there something else to your life? Why do you live your life the way you live it? Is it because this is the way your parents live their lives? You’re not questioning why you do these things, or why you do things at all.\n",
    "Q: So why does nayone do any of those things? Is there a clear answer for it?\n",
    "A: If we look closely at what we do, we can see why we do these things. We eat because we are hungry. We drink because we are thirsty. We get married because we love each other. We have a child because we want our child to have a life, and to enjoy their life. We work so that we can have the things we want and need. We get ready for a day so that we can go out and do things. We do things for a reason, and if we question why we are doing these things, we can understand what these reasons are.\n",
    "Q: But aren't these things everyday-things? What's so significant about questioning them?\n",
    "A:\n",
    "\"\"\"\n",
    "response = openai.Completion.create(engine=\"davinci\", prompt=prompt, stop=\"\\n\", temperature=0.9, max_tokens=721)\n",
    "print(prompt.split(',')[-1].split('\\n')[-2:][0])\n",
    "print(u\"{}\".format(response.get('choices')[0].get('text')))"
   ]
  },
  {
   "cell_type": "code",
   "execution_count": null,
   "metadata": {},
   "outputs": [],
   "source": []
  }
 ],
 "metadata": {
  "kernelspec": {
   "display_name": "Python 3",
   "language": "python",
   "name": "python3"
  },
  "language_info": {
   "codemirror_mode": {
    "name": "ipython",
    "version": 3
   },
   "file_extension": ".py",
   "mimetype": "text/x-python",
   "name": "python",
   "nbconvert_exporter": "python",
   "pygments_lexer": "ipython3",
   "version": "3.6.6"
  }
 },
 "nbformat": 4,
 "nbformat_minor": 4
}
