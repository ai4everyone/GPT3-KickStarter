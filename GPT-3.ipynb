{
 "cells": [
  {
   "cell_type": "markdown",
   "metadata": {},
   "source": [
    "#### 1. Install the `openai` package"
   ]
  },
  {
   "cell_type": "code",
   "execution_count": null,
   "metadata": {},
   "outputs": [],
   "source": [
    "!pip install openai"
   ]
  },
  {
   "cell_type": "markdown",
   "metadata": {},
   "source": [
    "#### 2. Set your API KEY"
   ]
  },
  {
   "cell_type": "code",
   "execution_count": 2,
   "metadata": {},
   "outputs": [],
   "source": [
    "API_KEY = \"Replace-This-With-Your-API-Key\""
   ]
  },
  {
   "cell_type": "markdown",
   "metadata": {},
   "source": [
    "#### 3. Import `openai` and set the openai API Key"
   ]
  },
  {
   "cell_type": "code",
   "execution_count": 3,
   "metadata": {},
   "outputs": [],
   "source": [
    "import openai\n",
    "openai.api_key = API_KEY"
   ]
  },
  {
   "cell_type": "markdown",
   "metadata": {},
   "source": [
    "#### 4. The `prompt` variable is where you'll \"ask\" the questions or set some context to the conversation."
   ]
  },
  {
   "cell_type": "code",
   "execution_count": 80,
   "metadata": {},
   "outputs": [
    {
     "name": "stdout",
     "output_type": "stream",
     "text": [
      "A:\n",
      "Stick a reason to every decision you make. If you don’t have a reason to do something, then don’t do it. If you do have a reason to do something, then do it. Always think, think, think. Reason from first principles. Ask why, why, why. If you find out that your reason is wrong, or you had no reason to do something, don’t worry, just change your mind, change your mind, change your mind!\n"
     ]
    }
   ],
   "source": [
    "prompt = \"\"\"\n",
    "Q: How can I reason using the first principles?\n",
    "A: So long as you think and you believe in what you think, you are deceiving yourself. So let go of that belief. Reason from the first principles. Ask, why? Why? Ask yourself, Why are you doing that? Or, why did you do that? Question everything. Have a reason to explain every decision you make. Having reasons is important because a clear, definite reason is self-evident truth. It is right. It is good. It is perfect. Having reasons is important because it makes you think and be consistent, and because when you don’t have a reason you usually don’t think. Your reason is important because you are always aware of it, you will have the opportunity to question it to ensure it is true. If you have a reason to do something, then do it. If you don’t have a reason to do something, then don’t do it. Reason from first principles. Ask why, why, why\n",
    "Q: Can you give me an example of how I can practise the first princliples thinking in my day to day life?\n",
    "A: Question Everything\n",
    "Q: Can you explain what's the best way to go about it?\n",
    "A:\n",
    "\"\"\"\n",
    "response = openai.Completion.create(engine=\"davinci\", prompt=prompt, stop=\"\\n\", temperature=0.9, max_tokens=721)\n",
    "print(prompt.split(',')[-1].split('\\n')[-2:][0])\n",
    "print(u\"{}\".format(response.get('choices')[0].get('text')))"
   ]
  },
  {
   "cell_type": "code",
   "execution_count": null,
   "metadata": {},
   "outputs": [],
   "source": []
  }
 ],
 "metadata": {
  "kernelspec": {
   "display_name": "Python 3",
   "language": "python",
   "name": "python3"
  },
  "language_info": {
   "codemirror_mode": {
    "name": "ipython",
    "version": 3
   },
   "file_extension": ".py",
   "mimetype": "text/x-python",
   "name": "python",
   "nbconvert_exporter": "python",
   "pygments_lexer": "ipython3",
   "version": "3.6.6"
  }
 },
 "nbformat": 4,
 "nbformat_minor": 4
}
